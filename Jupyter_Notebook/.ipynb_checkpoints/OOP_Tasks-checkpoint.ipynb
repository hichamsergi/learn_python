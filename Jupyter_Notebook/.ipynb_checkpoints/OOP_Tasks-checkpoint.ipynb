{
 "cells": [
  {
   "cell_type": "markdown",
   "id": "80a18bc0-9bff-400c-8dcf-20830a075bfc",
   "metadata": {},
   "source": [
    "<center>\n",
    "    \n",
    "# Task: Car dealership's inventory management system\n",
    "\n",
    "</center>\n",
    "\n",
    "\n"
   ]
  },
  {
   "cell_type": "markdown",
   "id": "7bc0c481-8018-44b2-bdc7-91a3308c61ad",
   "metadata": {},
   "source": [
    "You are working on a Python program to simulate a car dealership's inventory management system. The system aims to model cars and their attributes accurately.\n"
   ]
  },
  {
   "cell_type": "markdown",
   "id": "1b1c759a-eb2d-4a35-87d4-4465b1c0cf5a",
   "metadata": {},
   "source": [
    "### Task-1. You are tasked with creating a Python program to represent vehicles using a class. Each car should have attributes for maximum speed and mileage. \n"
   ]
  },
  {
   "cell_type": "code",
   "execution_count": null,
   "id": "3d37169b-624f-46a2-bf3c-0312369dd7de",
   "metadata": {},
   "outputs": [],
   "source": []
  },
  {
   "cell_type": "markdown",
   "id": "e4f16edd-23af-4f3b-8fa8-993fa05d1ca8",
   "metadata": {},
   "source": [
    "### Task-2. Update the class with the default color for all vehicles,\" white\"."
   ]
  },
  {
   "cell_type": "code",
   "execution_count": null,
   "id": "fa8c3bcf-bb99-4b9e-a34f-1c84a7f7cdfd",
   "metadata": {},
   "outputs": [],
   "source": []
  },
  {
   "cell_type": "markdown",
   "id": "2260f41e-b707-439b-87f3-57f7f8ac64e4",
   "metadata": {},
   "source": [
    "### Task-3. Additionally, you need to create methods in the Vehicle class to assign seating capacity to a vehicle.\n"
   ]
  },
  {
   "cell_type": "code",
   "execution_count": null,
   "id": "836f75c5-6d4c-4de3-a1f5-ccf387709d11",
   "metadata": {},
   "outputs": [],
   "source": []
  },
  {
   "cell_type": "markdown",
   "id": "531ec554-28a3-478c-86ae-a2e711f1784b",
   "metadata": {},
   "source": [
    "### Task-4. Create a method to display all the properties of an object of the class."
   ]
  },
  {
   "cell_type": "code",
   "execution_count": null,
   "id": "fd657be1-eb9c-48aa-a631-13919242c8a8",
   "metadata": {},
   "outputs": [],
   "source": []
  },
  {
   "cell_type": "markdown",
   "id": "8647a066-ec18-4e40-b724-200af2a71688",
   "metadata": {},
   "source": [
    "### Task-5. Additionally, you need to create two objects of the Vehicle class object that should have a max speed of 200kmph and mileage of 20kmpl with five seating capacities, and another car object should have a max speed of 180kmph and mileage of 25kmpl with four seating capacities."
   ]
  },
  {
   "cell_type": "code",
   "execution_count": null,
   "id": "10a24d58-7571-45f0-873d-527dd0d7e567",
   "metadata": {},
   "outputs": [],
   "source": []
  }
 ],
 "metadata": {
  "kernelspec": {
   "display_name": "Python 3 (ipykernel)",
   "language": "python",
   "name": "python3"
  },
  "language_info": {
   "codemirror_mode": {
    "name": "ipython",
    "version": 3
   },
   "file_extension": ".py",
   "mimetype": "text/x-python",
   "name": "python",
   "nbconvert_exporter": "python",
   "pygments_lexer": "ipython3",
   "version": "3.8.10"
  }
 },
 "nbformat": 4,
 "nbformat_minor": 5
}
