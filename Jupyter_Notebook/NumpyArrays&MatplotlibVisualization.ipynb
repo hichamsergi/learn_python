{
 "cells": [
  {
   "cell_type": "markdown",
   "id": "416acc10",
   "metadata": {},
   "source": [
    "<center>\n",
    "\n",
    "## Task: Vector representation of a NumPy array\n",
    "\n",
    "</center>"
   ]
  },
  {
   "cell_type": "markdown",
   "id": "9040e943",
   "metadata": {},
   "source": [
    "The task is defining a function to generate a vector representation of a NumPy array based on matplotlib library\n"
   ]
  },
  {
   "cell_type": "code",
   "execution_count": 11,
   "id": "81301c98",
   "metadata": {},
   "outputs": [],
   "source": [
    "import time\n",
    "import sys\n",
    "import numpy as np\n",
    "\n",
    "import matplotlib.pyplot as plt\n",
    "\n",
    "def plotvecl(u, z, v):\n",
    "\n",
    "    ax = plt.axes() # Generamos los ejes del gráfico\n",
    "\n",
    "    ax.arrow(0, 0, *u, head_width=0.04, color='r', head_length=0.1)\n",
    "    plt.text(*(u + 0.1), 'u')\n",
    "\n",
    "    ax.arrow(0, 0, *z, head_width=0.04, color='b', head_length=0.1)\n",
    "    plt.text(*(z + 0.1), 'z')\n",
    "\n",
    "    ax.arrow(0, 0, *v, head_width=0.04, color='g', head_length=0.1)\n",
    "    plt.text(*(v + 0.1), 'v')\n",
    "\n",
    "    plt.ylim(-1,5)\n",
    "    plt.xlim(-1,5)"
   ]
  },
  {
   "cell_type": "markdown",
   "id": "37c19e3f",
   "metadata": {},
   "source": [
    "* `ax = plt.axes()`: Definimos el sistema de coordenadas sobre el que se dibujarán los vectores.\n",
    "\n",
    "\n",
    "* `ax.arrow(0, 0, *u, head_width=0.04, color='r', head_length=0.1)`: Dibujamos el vector `u`.\n",
    "\n",
    "    * `0, 0`: Definimos en `[0,0]` el inicio del vector.\n",
    "\n",
    "    * `*u`: Definimos el punto final del vector en `u`. Especificamos `*u` para expandir el array de numpy. Podemos describir tambien las coordenadas manualmente, tal qué `[3,5]`.\n",
    "\n",
    "    * `head_width=0.04, color='r', head_length=0.1`: Añadimos características visuales al vector, como color o forma.\n",
    "\n",
    "\n",
    "* `plt.text(*(u + 0.1), 'u')`: Dibujamos la letra `u`, 0.1 unidades por encima del final del mismo vector.\n",
    "\n",
    "\n",
    "* `plt.ylim(-1,5)`: Definimos los limites del sistema de cordenadas en el eje *y*.\n",
    "* `plt.xlim(-1,5)`: Definimos los limites del sistema de cordenadas en el eje *x*."
   ]
  },
  {
   "cell_type": "code",
   "execution_count": 12,
   "id": "727f5d85",
   "metadata": {},
   "outputs": [
    {
     "data": {
      "image/png": "[encoded data removed]",
      "text/plain": [
       "<Figure size 640x480 with 1 Axes>"
      ]
     },
     "metadata": {},
     "output_type": "display_data"
    }
   ],
   "source": [
    "u = np.array([0,3])\n",
    "z = np.array([3,0])\n",
    "v = np.array([3,3])\n",
    "\n",
    "plotvecl(u, z, v)"
   ]
  }
 ],
 "metadata": {
  "kernelspec": {
   "display_name": "Python 3",
   "language": "python",
   "name": "python3"
  },
  "language_info": {
   "codemirror_mode": {
    "name": "ipython",
    "version": 3
   },
   "file_extension": ".py",
   "mimetype": "text/x-python",
   "name": "python",
   "nbconvert_exporter": "python",
   "pygments_lexer": "ipython3",
   "version": "3.8.10"
  }
 },
 "nbformat": 4,
 "nbformat_minor": 5
}
