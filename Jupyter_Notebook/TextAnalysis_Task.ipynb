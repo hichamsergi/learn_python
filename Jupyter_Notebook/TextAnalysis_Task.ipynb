{
 "cells": [
  {
   "cell_type": "markdown",
   "metadata": {},
   "source": [
    "<center>\n",
    "    \n",
    "# Task: Text Analysis with python\n",
    "\n",
    "</center>"
   ]
  },
  {
   "cell_type": "markdown",
   "metadata": {},
   "source": [
    "## Step 1: Define a string\n",
    "\"Lorem ipsum dolor! diam amet, consetetur Lorem magna. sed diam nonumy eirmod tempor. diam et labore? et diam magna. et diam amet.\" <br>\n",
    "\n",
    "**Hint: Use a variable and store the above string.**"
   ]
  },
  {
   "cell_type": "code",
   "execution_count": 6,
   "metadata": {},
   "outputs": [],
   "source": [
    "givenstring=\"Lorem ipsum dolor! diam amet, consetetur Lorem magna. sed diam nonumy eirmod tempor. diam et labore? et diam magna. et diam amet.\""
   ]
  },
  {
   "cell_type": "markdown",
   "metadata": {},
   "source": [
    "## Step 2: Define the class and its attributes\n",
    "\n",
    "\n",
    "1. Create a class named TextAnalyzer.\n",
    "2. Define the constructor `__init__` method that takes a text argument."
   ]
  },
  {
   "cell_type": "code",
   "execution_count": 2,
   "metadata": {},
   "outputs": [],
   "source": [
    "class TextAnalyzer(object):\n",
    "\n",
    "    def __init__(self,text):\n",
    "        self.text = text"
   ]
  },
  {
   "cell_type": "markdown",
   "metadata": {},
   "source": [
    "## Step 3: Implement a code to format the text in lowercase"
   ]
  },
  {
   "cell_type": "markdown",
   "metadata": {},
   "source": [
    "1. Inside the constructor, convert the text argument to lowercase using the lower() method.\n",
    "2. Then, remove punctuation marks (periods, exclamation marks, commas, and question marks) from the text using the replace() method.\n",
    "3. Finally, assign the formatted text to a new attribute called fmtText.\n"
   ]
  },
  {
   "cell_type": "code",
   "execution_count": null,
   "metadata": {},
   "outputs": [],
   "source": [
    "class TextAnalyzer(object):\n",
    "\n",
    "    def __init__(self,text):\n",
    "        self.text = text.lower()\n",
    "        self.fmtText = text.replace(\".\",\"\").replace(\",\",\"\").replace(\"!\",\"\").replace(\"?\",\"\")"
   ]
  },
  {
   "cell_type": "markdown",
   "metadata": {},
   "source": [
    "## Step 4: Implement a code to count the frequency of all unique words\n"
   ]
  },
  {
   "cell_type": "markdown",
   "metadata": {},
   "source": [
    "* In this step, you will implement the `freqAll()` method with the below parameters:\n",
    "     1. Split the fmtText attribute into individual words using the `split()` method.\n",
    "     2. Create an empty dictionary to store the word frequency.\n",
    "     3. Iterate over the list of words and update the frequency dictionary accordingly.\n",
    "     4. Use `count` method for counting the occurence.\n",
    "     5. Return the frequency dictionary."
   ]
  },
  {
   "cell_type": "code",
   "execution_count": null,
   "metadata": {},
   "outputs": [],
   "source": [
    "class TextAnalyzer(object):\n",
    "\n",
    "    def __init__(self,text):\n",
    "        \n",
    "        fmtText = text.replace(\".\",\"\").replace(\",\",\"\").replace(\"!\",\"\").replace(\"?\",\"\")\n",
    "        self.formated_txt = fmtText.lower()\n",
    "\n",
    "    def freqAll(self):\n",
    "        \n",
    "        all_words = self.formated_txt.split(' ') # Para definir que las separaciones sean solo ' '\n",
    "\n",
    "        freq_w = {}\n",
    "\n",
    "        for w in set{all_words}: # Para generar un indice de busqueda de palabras sin duplicados\n",
    "\n",
    "            freq_w[w] = all_words.count(w)\n",
    "        \n",
    "        return freq_w\n",
    "\n"
   ]
  },
  {
   "cell_type": "markdown",
   "metadata": {},
   "source": [
    "## Step 5: Implement a code to count the frequency of a specific word\n"
   ]
  },
  {
   "cell_type": "markdown",
   "metadata": {},
   "source": [
    "In step-5, you have to implement the `freqOf(word)` method that takes a word argument:\n",
    "   1. Create a method and pass the word that needs to be found.\n",
    "   2. Get the `freqAll` method to look for count and check if that word is in the list.\n",
    "   3. Return the count. If the word is not found, the count returned is 0."
   ]
  },
  {
   "cell_type": "code",
   "execution_count": null,
   "metadata": {},
   "outputs": [],
   "source": [
    "class TextAnalyzer(object):\n",
    "\n",
    "    def __init__(self,text):\n",
    "        \n",
    "        fmtText = text.replace(\".\",\"\").replace(\",\",\"\").replace(\"!\",\"\").replace(\"?\",\"\")\n",
    "        self.formated_txt = fmtText.lower()\n",
    "\n",
    "    def freqAll(self):\n",
    "        \n",
    "        all_words = self.formated_txt.split(' ') # Para definir que las separaciones sean solo ' '\n",
    "\n",
    "        freq_w = {}\n",
    "\n",
    "        for w in set(all_words): # Para generar un indice de busqueda de palabras sin duplicados\n",
    "\n",
    "            freq_w[w] = all_words.count(w)\n",
    "        \n",
    "        return freq_w\n",
    "    \n",
    "    def freqOf(self, word):\n",
    "        \n",
    "        word_dic = self.freqAll()\n",
    "\n",
    "        if word in word_dic:\n",
    "            return word_dic[word]\n",
    "        \n",
    "        else:\n",
    "            return 0\n",
    "\n"
   ]
  },
  {
   "cell_type": "markdown",
   "metadata": {},
   "source": [
    "## Step 6: Create an instance of TextAnalyzer class\n",
    "* Instantiate the TextAnalyzer class by passing the given string as an argument."
   ]
  },
  {
   "cell_type": "code",
   "execution_count": 7,
   "metadata": {},
   "outputs": [],
   "source": [
    "analyzed = TextAnalyzer(givenstring)"
   ]
  },
  {
   "cell_type": "markdown",
   "metadata": {},
   "source": [
    "## Step 7: Call the function that converts the data into lowercase\n"
   ]
  },
  {
   "cell_type": "code",
   "execution_count": 16,
   "metadata": {},
   "outputs": [
    {
     "name": "stdout",
     "output_type": "stream",
     "text": [
      "Text: \n",
      "\n",
      "lorem ipsum dolor diam amet consetetur lorem magna sed diam nonumy eirmod tempor diam et labore et diam magna et diam amet\n"
     ]
    }
   ],
   "source": [
    "print(f\"Text: \\n\\n{analyzed.formated_txt}\")"
   ]
  },
  {
   "cell_type": "markdown",
   "metadata": {},
   "source": [
    "## Step 8: Call the function that counts the frequency of all unique words from the data\n"
   ]
  },
  {
   "cell_type": "code",
   "execution_count": 17,
   "metadata": {},
   "outputs": [
    {
     "name": "stdout",
     "output_type": "stream",
     "text": [
      "The frequency of the words:\n",
      "\n",
      "{'magna': 2, 'eirmod': 1, 'dolor': 1, 'lorem': 2, 'diam': 5, 'amet': 2, 'consetetur': 1, 'labore': 1, 'et': 3, 'ipsum': 1, 'sed': 1, 'tempor': 1, 'nonumy': 1}\n"
     ]
    }
   ],
   "source": [
    "print(f\"The frequency of the words:\\n\\n{analyzed.freqAll()}\")"
   ]
  },
  {
   "cell_type": "markdown",
   "metadata": {},
   "source": [
    "## Step 9: Call the function that counts the frequency of a specific word\n"
   ]
  },
  {
   "cell_type": "code",
   "execution_count": 28,
   "metadata": {},
   "outputs": [
    {
     "name": "stdout",
     "output_type": "stream",
     "text": [
      "The frequency of diam: 5\n"
     ]
    }
   ],
   "source": [
    "word = \"diam\"\n",
    "\n",
    "print(f\"The frequency of {word}: {analyzed.freqOf(word)}\")"
   ]
  }
 ],
 "metadata": {
  "kernelspec": {
   "display_name": "Python 3",
   "language": "python",
   "name": "python3"
  },
  "language_info": {
   "codemirror_mode": {
    "name": "ipython",
    "version": 3
   },
   "file_extension": ".py",
   "mimetype": "text/x-python",
   "name": "python",
   "nbconvert_exporter": "python",
   "pygments_lexer": "ipython3",
   "version": "3.8.10"
  }
 },
 "nbformat": 4,
 "nbformat_minor": 2
}
